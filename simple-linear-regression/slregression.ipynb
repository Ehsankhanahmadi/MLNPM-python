{
 "cells": [
  {
   "cell_type": "code",
   "execution_count": 1,
   "id": "619b969c",
   "metadata": {},
   "outputs": [],
   "source": [
    "import pandas as pd\n",
    "import matplotlib.pyplot as plt\n",
    "from sklearn.model_selection import train_test_split\n",
    "from sklearn.linear_model import LinearRegression\n",
    "from sklearn.metrics import r2_score"
   ]
  },
  {
   "cell_type": "markdown",
   "id": "ae50cb88",
   "metadata": {},
   "source": [
    "##### simple linear regression"
   ]
  },
  {
   "cell_type": "code",
   "execution_count": null,
   "id": "b727a372",
   "metadata": {},
   "outputs": [],
   "source": [
    "# gereftan data haieh avalieh\n",
    "data = pd.read_csv(\"Salary_dataset.csv\")\n",
    "DF = pd.DataFrame(data)\n",
    "x = DF.iloc[:,:-1].values # tamam maghadir beghei az meghdar asli\n",
    "y = DF.iloc[:,-1].values # meghdar asli\n",
    "# DF"
   ]
  },
  {
   "cell_type": "code",
   "execution_count": null,
   "id": "430d75c2",
   "metadata": {},
   "outputs": [],
   "source": [
    "# sakht train va test baraieh x va y\n",
    "x_train, x_test, y_train, y_test = train_test_split(x,y,test_size=0.2,random_state=100)\n",
    "LR = LinearRegression() # sakhteh regression baraieh ejra\n",
    "LR.fit(x_train,y_train) # dadan maghadir asli"
   ]
  },
  {
   "cell_type": "code",
   "execution_count": null,
   "id": "988796d0",
   "metadata": {},
   "outputs": [],
   "source": [
    "# baraieh y haieh ehtamali ma x haieh test ramidahim ta ejra begirad\n",
    "yp = LR.predict(x_test)"
   ]
  },
  {
   "cell_type": "code",
   "execution_count": null,
   "id": "d4988a09",
   "metadata": {},
   "outputs": [],
   "source": [
    "# y haieh test ra ba y haieh ehtamali iek matrix misazim\n",
    "# va mizan dorost boodan on ra ba % as tabeh r2_score misangim\n",
    "r2 = r2_score(y_test,yp)\n",
    "# r2"
   ]
  },
  {
   "cell_type": "code",
   "execution_count": null,
   "id": "f395625e",
   "metadata": {},
   "outputs": [],
   "source": [
    "plt.scatter(x_train,y_train,color=\"red\") # meghdar haieh asli\n",
    "plt.plot(x,LR.predict(x),color=\"blue\") # meghdar haieh pishbini shodeh\n",
    "plt.show()"
   ]
  }
 ],
 "metadata": {
  "kernelspec": {
   "display_name": "vtest",
   "language": "python",
   "name": "vtest"
  },
  "language_info": {
   "codemirror_mode": {
    "name": "ipython",
    "version": 3
   },
   "file_extension": ".py",
   "mimetype": "text/x-python",
   "name": "python",
   "nbconvert_exporter": "python",
   "pygments_lexer": "ipython3",
   "version": "3.13.3"
  }
 },
 "nbformat": 4,
 "nbformat_minor": 5
}
