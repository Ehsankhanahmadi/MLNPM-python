{
 "cells": [
  {
   "cell_type": "code",
   "execution_count": 4,
   "id": "144b4b64",
   "metadata": {},
   "outputs": [],
   "source": [
    "import numpy as np"
   ]
  },
  {
   "cell_type": "markdown",
   "id": "b2949377",
   "metadata": {},
   "source": [
    "##### tamrin numpy"
   ]
  },
  {
   "cell_type": "code",
   "execution_count": null,
   "id": "f5a48b8e",
   "metadata": {},
   "outputs": [],
   "source": [
    "data = np.array([\n",
    "    [20,20,20,20,20],\n",
    "    [19,20,2,17,10],\n",
    "    [19,2,10,20,14],\n",
    "    [13,20,10,16,20],\n",
    "    [20,12,2,10,20]\n",
    "])\n",
    "\n",
    "avg = data.mean()\n",
    "# print(avg)\n",
    "avg_corse = data.mean(0)\n",
    "top_corse_avg = np.argmax(avg_corse)\n",
    "# print(avg_corse)\n",
    "# print(top_corse_avg)\n",
    "avg_student = data.mean(1)\n",
    "# print(avg_student)\n",
    "top_three_student = np.argsort(avg_student)[::-1][:3] + 1\n",
    "# print(top_three_student)\n",
    "var = np.var(data,0)\n",
    "# print(var)\n",
    "std = np.std(data,0)\n",
    "# print(std)\n",
    "test = np.all(data >= 10,1)\n",
    "# print(test)\n",
    "# print(test.sum())"
   ]
  }
 ],
 "metadata": {
  "kernelspec": {
   "display_name": "vtest",
   "language": "python",
   "name": "vtest"
  },
  "language_info": {
   "codemirror_mode": {
    "name": "ipython",
    "version": 3
   },
   "file_extension": ".py",
   "mimetype": "text/x-python",
   "name": "python",
   "nbconvert_exporter": "python",
   "pygments_lexer": "ipython3",
   "version": "3.13.3"
  }
 },
 "nbformat": 4,
 "nbformat_minor": 5
}
