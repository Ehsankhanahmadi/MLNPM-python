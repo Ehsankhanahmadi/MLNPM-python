{
 "cells": [
  {
   "cell_type": "code",
   "execution_count": 13,
   "id": "0d62a36e",
   "metadata": {},
   "outputs": [],
   "source": [
    "import pandas as pd\n",
    "import matplotlib.pyplot as plt"
   ]
  },
  {
   "cell_type": "markdown",
   "id": "4403e5bc",
   "metadata": {},
   "source": [
    "##### tamrin pandas"
   ]
  },
  {
   "cell_type": "code",
   "execution_count": null,
   "id": "36e2914e",
   "metadata": {},
   "outputs": [],
   "source": [
    "data = pd.read_csv(\"youtube.csv\",encoding=\"latin1\")\n",
    "DF = pd.DataFrame(data)\n",
    "# DF\n",
    "# group_Country = DF.groupby(\"Country\")[\"subscribers\"].sum().sort_values()[::-1]\n",
    "# group_Country\n",
    "# plt.figure(figsize=(15,6))\n",
    "# group_Country.plot(kind=\"bar\")\n",
    "# plt.title(\"sum sub in country\")\n",
    "# plt.xlabel('country')\n",
    "# plt.ylabel('sub')\n",
    "# plt.show()"
   ]
  },
  {
   "cell_type": "code",
   "execution_count": null,
   "id": "2f5328eb",
   "metadata": {},
   "outputs": [],
   "source": [
    "category = DF[\"category\"].value_counts().head(5)\n",
    "# category\n",
    "plt.figure(figsize=(10,10))\n",
    "plt.pie(category,labels=category.index,autopct=\"%1.1f%%\",startangle=90)\n",
    "plt.show()"
   ]
  }
 ],
 "metadata": {
  "kernelspec": {
   "display_name": "vtest",
   "language": "python",
   "name": "vtest"
  },
  "language_info": {
   "codemirror_mode": {
    "name": "ipython",
    "version": 3
   },
   "file_extension": ".py",
   "mimetype": "text/x-python",
   "name": "python",
   "nbconvert_exporter": "python",
   "pygments_lexer": "ipython3",
   "version": "3.13.3"
  }
 },
 "nbformat": 4,
 "nbformat_minor": 5
}
