{
 "cells": [
  {
   "cell_type": "code",
   "execution_count": 9,
   "id": "a98b39cd",
   "metadata": {},
   "outputs": [],
   "source": [
    "import pandas as pd"
   ]
  },
  {
   "cell_type": "markdown",
   "id": "7f09caa2",
   "metadata": {},
   "source": [
    "##### create DF"
   ]
  },
  {
   "cell_type": "code",
   "execution_count": null,
   "id": "210b5c8e",
   "metadata": {},
   "outputs": [],
   "source": [
    "data = {\n",
    "    \"name\": [\"ehsan\",\"ali\",\"amir\"],\n",
    "    \"age\": [19,19,None]\n",
    "}\n",
    "DF = pd.DataFrame(data)\n",
    "# print(DF)\n",
    "# print(DF.name)\n",
    "# print(DF.age)"
   ]
  },
  {
   "cell_type": "markdown",
   "id": "d5c7388c",
   "metadata": {},
   "source": [
    "##### read file"
   ]
  },
  {
   "cell_type": "code",
   "execution_count": null,
   "id": "ffe18e65",
   "metadata": {},
   "outputs": [],
   "source": [
    "# csv = pd.read_csv(\"test2.csv\")\n",
    "# xlsx = pd.read_excel(\"test.xlsx\")"
   ]
  }
 ],
 "metadata": {
  "kernelspec": {
   "display_name": "vtest",
   "language": "python",
   "name": "vtest"
  },
  "language_info": {
   "codemirror_mode": {
    "name": "ipython",
    "version": 3
   },
   "file_extension": ".py",
   "mimetype": "text/x-python",
   "name": "python",
   "nbconvert_exporter": "python",
   "pygments_lexer": "ipython3",
   "version": "3.13.3"
  }
 },
 "nbformat": 4,
 "nbformat_minor": 5
}
