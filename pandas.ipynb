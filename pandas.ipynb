{
 "cells": [
  {
   "cell_type": "code",
   "execution_count": 9,
   "id": "a98b39cd",
   "metadata": {},
   "outputs": [],
   "source": [
    "import pandas as pd"
   ]
  },
  {
   "cell_type": "markdown",
   "id": "7f09caa2",
   "metadata": {},
   "source": [
    "##### create DF"
   ]
  },
  {
   "cell_type": "code",
   "execution_count": null,
   "id": "210b5c8e",
   "metadata": {},
   "outputs": [],
   "source": [
    "data = {\n",
    "    \"name\": [\"ehsan\",\"ali\",\"amir\"],\n",
    "    \"age\": [19,19,None]\n",
    "}\n",
    "DF = pd.DataFrame(data)\n",
    "# print(DF)\n",
    "# print(DF.name)\n",
    "# print(DF.age)"
   ]
  },
  {
   "cell_type": "markdown",
   "id": "d5c7388c",
   "metadata": {},
   "source": [
    "##### read file"
   ]
  },
  {
   "cell_type": "code",
   "execution_count": null,
   "id": "ffe18e65",
   "metadata": {},
   "outputs": [],
   "source": [
    "# csv = pd.read_csv(\"test2.csv\")\n",
    "# xlsx = pd.read_excel(\"test.xlsx\")"
   ]
  },
  {
   "cell_type": "markdown",
   "id": "5bd2fd3a",
   "metadata": {},
   "source": [
    "##### inspection"
   ]
  },
  {
   "cell_type": "code",
   "execution_count": null,
   "id": "186ac6c2",
   "metadata": {},
   "outputs": [],
   "source": [
    "# print(DF)\n",
    "# DF.head() # ziba mikonad\n",
    "# DF.head(1) # ziba mikonad meghdar ra az aval neshan midahad\n",
    "# DF.tail(1) # baraks head az akhar\n",
    "# DF.describe() # important data az DF or file\n",
    "# DF.info()"
   ]
  },
  {
   "cell_type": "markdown",
   "id": "c837b20a",
   "metadata": {},
   "source": [
    "##### array pandas"
   ]
  },
  {
   "cell_type": "code",
   "execution_count": null,
   "id": "a3d8b8e9",
   "metadata": {},
   "outputs": [],
   "source": [
    "# test = pd.Series([1,\"2\",3],[\"a\",\"b\",\"c\"])\n",
    "# print(test)\n",
    "# print(test[\"c\"])\n",
    "# print(type(test[0]))\n",
    "# print(type(test[1]))"
   ]
  }
 ],
 "metadata": {
  "kernelspec": {
   "display_name": "vtest",
   "language": "python",
   "name": "vtest"
  },
  "language_info": {
   "codemirror_mode": {
    "name": "ipython",
    "version": 3
   },
   "file_extension": ".py",
   "mimetype": "text/x-python",
   "name": "python",
   "nbconvert_exporter": "python",
   "pygments_lexer": "ipython3",
   "version": "3.13.3"
  }
 },
 "nbformat": 4,
 "nbformat_minor": 5
}
