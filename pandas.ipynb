{
 "cells": [
  {
   "cell_type": "code",
   "execution_count": 9,
   "id": "a98b39cd",
   "metadata": {},
   "outputs": [],
   "source": [
    "import pandas as pd"
   ]
  },
  {
   "cell_type": "markdown",
   "id": "7f09caa2",
   "metadata": {},
   "source": [
    "##### create DF"
   ]
  },
  {
   "cell_type": "code",
   "execution_count": null,
   "id": "210b5c8e",
   "metadata": {},
   "outputs": [],
   "source": [
    "data = {\n",
    "    \"name\": [\"ehsan\",\"ali\",\"amir\"],\n",
    "    \"age\": [19,19,None]\n",
    "}\n",
    "DF = pd.DataFrame(data)\n",
    "# print(DF)\n",
    "# print(DF.name)\n",
    "# print(DF[\"name\"])\n",
    "# print(DF.age)\n",
    "# print(DF[\"age\"])\n",
    "\n",
    "# var\n",
    "# a = DF[\"name\"]\n",
    "# print(a)\n",
    "# b = DF[\"age\"]\n",
    "# import numpy as np\n",
    "# print(b.mean())\n",
    "\n",
    "# main\n",
    "# DF.head()\n",
    "# print(DF.loc[0])\n",
    "# print(DF.iloc[:2,:2])\n",
    "\n",
    "# drop empty\n",
    "# DF.dropna()\n",
    "# DF.rename(columns={\"name\":\"firstname\"})"
   ]
  },
  {
   "cell_type": "markdown",
   "id": "d5c7388c",
   "metadata": {},
   "source": [
    "##### read file"
   ]
  },
  {
   "cell_type": "code",
   "execution_count": null,
   "id": "ffe18e65",
   "metadata": {},
   "outputs": [],
   "source": [
    "# csv = pd.read_csv(\"test2.csv\")\n",
    "# xlsx = pd.read_excel(\"test.xlsx\")"
   ]
  },
  {
   "cell_type": "markdown",
   "id": "5bd2fd3a",
   "metadata": {},
   "source": [
    "##### inspection"
   ]
  },
  {
   "cell_type": "code",
   "execution_count": null,
   "id": "186ac6c2",
   "metadata": {},
   "outputs": [],
   "source": [
    "# print(DF)\n",
    "# DF.head() # ziba mikonad\n",
    "# DF.head(1) # ziba mikonad meghdar ra az aval neshan midahad\n",
    "# DF.tail(1) # baraks head az akhar\n",
    "# DF.describe() # important data az DF or file\n",
    "# DF.info()"
   ]
  },
  {
   "cell_type": "markdown",
   "id": "c837b20a",
   "metadata": {},
   "source": [
    "##### array pandas"
   ]
  },
  {
   "cell_type": "code",
   "execution_count": null,
   "id": "a3d8b8e9",
   "metadata": {},
   "outputs": [],
   "source": [
    "# test = pd.Series([1,\"2\",3],[\"a\",\"b\",\"c\"])\n",
    "# print(test)\n",
    "# print(test[\"c\"])\n",
    "# print(type(test[0]))\n",
    "# print(type(test[1]))"
   ]
  },
  {
   "cell_type": "markdown",
   "id": "b836d555",
   "metadata": {},
   "source": [
    "##### grouping"
   ]
  },
  {
   "cell_type": "code",
   "execution_count": null,
   "id": "d82194df",
   "metadata": {},
   "outputs": [],
   "source": [
    "data1 = {\n",
    "    \"class\":[\"a\",\"b\",\"a\",\"b\"],\n",
    "    \"number\":[10,13,12,10]\n",
    "}\n",
    "\n",
    "DF1 = pd.DataFrame(data1)\n",
    "group = DF1.groupby(\"class\")\n",
    "num = group[\"number\"].sum()\n",
    "num.head()"
   ]
  },
  {
   "cell_type": "markdown",
   "id": "4fe76ea3",
   "metadata": {},
   "source": [
    "##### sort and filter"
   ]
  },
  {
   "cell_type": "code",
   "execution_count": null,
   "id": "280c7890",
   "metadata": {},
   "outputs": [],
   "source": [
    "# a = DF[DF[\"age\"] > 10]\n",
    "# a.head()\n",
    "\n",
    "# b = DF1.sort_values(by=\"number\")\n",
    "# b = DF1.sort_values(by=\"number\")[::-1]\n",
    "# print(b)"
   ]
  }
 ],
 "metadata": {
  "kernelspec": {
   "display_name": "vtest",
   "language": "python",
   "name": "vtest"
  },
  "language_info": {
   "codemirror_mode": {
    "name": "ipython",
    "version": 3
   },
   "file_extension": ".py",
   "mimetype": "text/x-python",
   "name": "python",
   "nbconvert_exporter": "python",
   "pygments_lexer": "ipython3",
   "version": "3.13.3"
  }
 },
 "nbformat": 4,
 "nbformat_minor": 5
}
