{
 "cells": [
  {
   "cell_type": "code",
   "execution_count": null,
   "id": "d3c8b866",
   "metadata": {},
   "outputs": [],
   "source": [
    "import numpy as np"
   ]
  },
  {
   "cell_type": "markdown",
   "id": "4cd46cae",
   "metadata": {},
   "source": [
    "##### create array 1d and 2d and 2d more"
   ]
  },
  {
   "cell_type": "code",
   "execution_count": null,
   "id": "bdb93c58",
   "metadata": {},
   "outputs": [],
   "source": [
    "# array one bod\n",
    "array1d = np.array([1,2,3])\n",
    "print(array1d)\n",
    "print(\"bod array: \", array1d.ndim)\n",
    "\n",
    "# array two bod\n",
    "# array2d = np.array([[1,2,3],[4,5,6]],dtype=\"str\")\n",
    "array2d = np.array([[1,2,3],[4,5,6]],dtype=\"str\")\n",
    "print(array2d)\n",
    "print(\"bod array: \", array2d.ndim)\n",
    "\n",
    "# array more than 2d\n",
    "array3d = np.array([[[1,2,3],[4,5,6]]])\n",
    "print(array3d)\n",
    "print(\"bod array: \", array3d.ndim)"
   ]
  },
  {
   "cell_type": "markdown",
   "id": "2a8aba02",
   "metadata": {},
   "source": [
    "##### array attributes"
   ]
  },
  {
   "cell_type": "code",
   "execution_count": null,
   "id": "11fb960b",
   "metadata": {},
   "outputs": [],
   "source": [
    "# bod array\n",
    "print(array2d.ndim)\n",
    "\n",
    "# shape array\n",
    "print(array2d.shape)\n",
    "\n",
    "# size or meghdar array\n",
    "print(array3d.size)\n",
    "\n",
    "# type array\n",
    "print(array3d.dtype)"
   ]
  }
 ],
 "metadata": {
  "kernelspec": {
   "display_name": "vtest",
   "language": "python",
   "name": "vtest"
  },
  "language_info": {
   "codemirror_mode": {
    "name": "ipython",
    "version": 3
   },
   "file_extension": ".py",
   "mimetype": "text/x-python",
   "name": "python",
   "nbconvert_exporter": "python",
   "pygments_lexer": "ipython3",
   "version": "3.13.3"
  }
 },
 "nbformat": 4,
 "nbformat_minor": 5
}
