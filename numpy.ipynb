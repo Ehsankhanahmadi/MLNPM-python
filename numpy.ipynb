{
 "cells": [
  {
   "cell_type": "code",
   "execution_count": 8,
   "id": "d3c8b866",
   "metadata": {},
   "outputs": [],
   "source": [
    "import numpy as np"
   ]
  },
  {
   "cell_type": "markdown",
   "id": "4cd46cae",
   "metadata": {},
   "source": [
    "##### create array 1d and 2d and 2d more"
   ]
  },
  {
   "cell_type": "code",
   "execution_count": null,
   "id": "bdb93c58",
   "metadata": {},
   "outputs": [],
   "source": [
    "# array one bod\n",
    "array1d = np.array([1,2,3])\n",
    "print(array1d)\n",
    "print(\"bod array: \", array1d.ndim)\n",
    "\n",
    "# array two bod\n",
    "# array2d = np.array([[1,2,3],[4,5,6]],dtype=\"str\")\n",
    "array2d = np.array([[1,2,3],[4,5,6]])\n",
    "print(array2d)\n",
    "print(\"bod array: \", array2d.ndim)\n",
    "\n",
    "# array more than 2d\n",
    "array3d = np.array([[[1,2,3],[4,5,6]]])\n",
    "print(array3d)\n",
    "print(\"bod array: \", array3d.ndim)"
   ]
  },
  {
   "cell_type": "markdown",
   "id": "2a8aba02",
   "metadata": {},
   "source": [
    "##### array attributes"
   ]
  },
  {
   "cell_type": "code",
   "execution_count": null,
   "id": "11fb960b",
   "metadata": {},
   "outputs": [],
   "source": [
    "# bod array\n",
    "print(array2d.ndim)\n",
    "\n",
    "# shape array\n",
    "print(array2d.shape)\n",
    "print(array2d)\n",
    "print(array2d.reshape(3,2))\n",
    "print(np.ravel(array2d))\n",
    "\n",
    "# size or meghdar array\n",
    "print(array3d.size)\n",
    "\n",
    "# type array\n",
    "print(array3d.dtype)"
   ]
  },
  {
   "cell_type": "markdown",
   "id": "70a66d00",
   "metadata": {},
   "source": [
    "##### tamrin in array"
   ]
  },
  {
   "cell_type": "code",
   "execution_count": null,
   "id": "6fe53283",
   "metadata": {},
   "outputs": [],
   "source": [
    "# index\n",
    "# arrayonebod = np.array([1,2,3,4,5])\n",
    "# print(arrayonebod)\n",
    "# print(arrayonebod[0])\n",
    "# print(arrayonebod[2])\n",
    "# print(arrayonebod[-1])\n",
    "# print(arrayonebod[0:3])\n",
    "\n",
    "# index 2d and mor\n",
    "# arraytwobod = np.array([[1,2],[3,4],[5,6]])\n",
    "# print(arraytwobod)\n",
    "# print(arraytwobod[2,1])\n",
    "# print(arraytwobod[-1,1])\n",
    "# print(arraytwobod[1,1])\n",
    "\n",
    "# slice\n",
    "# sone = np.array([0,1,2,3,4,5,6,7,8,9])\n",
    "# print(sone[1:6])\n",
    "# print(sone[5:])\n",
    "# print(sone[:-1])\n",
    "# print(sone[::2]) # important\n",
    "\n",
    "# slice two bod\n",
    "# stwo = np.array([[1,2,3],[4,5,6],[7,8,9]])\n",
    "# print(stwo[1:2,:])\n",
    "# print(stwo[:,:])\n",
    "# print(stwo[:2,1:])\n",
    "\n",
    "# operators\n",
    "# a = np.array([1,2,3,4])\n",
    "# b = np.array([5,6,7,8])\n",
    "# print(a+b)\n",
    "# print(a-b)\n",
    "# print(a*b)\n",
    "# print(b/a)\n",
    "\n",
    "# functions\n",
    "# print(a.sum())\n",
    "# print(a.min())\n",
    "# print(a.max())\n",
    "# print(a.mean())\n",
    "# print(np.average(a))\n",
    "# print(a.var()) # varians\n",
    "# print(a.std()) # enheraf meiar\n",
    "# more ...\n"
   ]
  }
 ],
 "metadata": {
  "kernelspec": {
   "display_name": "vtest",
   "language": "python",
   "name": "vtest"
  },
  "language_info": {
   "codemirror_mode": {
    "name": "ipython",
    "version": 3
   },
   "file_extension": ".py",
   "mimetype": "text/x-python",
   "name": "python",
   "nbconvert_exporter": "python",
   "pygments_lexer": "ipython3",
   "version": "3.13.3"
  }
 },
 "nbformat": 4,
 "nbformat_minor": 5
}
