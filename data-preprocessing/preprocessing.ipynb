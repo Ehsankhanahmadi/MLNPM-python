{
 "cells": [
  {
   "cell_type": "code",
   "execution_count": 10,
   "id": "243d8ae5",
   "metadata": {},
   "outputs": [],
   "source": [
    "import pandas as pd\n",
    "import numpy as np"
   ]
  },
  {
   "cell_type": "markdown",
   "id": "7a002c95",
   "metadata": {},
   "source": [
    "##### data preprocessing"
   ]
  },
  {
   "cell_type": "code",
   "execution_count": null,
   "id": "f971d69e",
   "metadata": {},
   "outputs": [],
   "source": [
    "data = pd.read_csv(\"insurance.csv\")\n",
    "DF = pd.DataFrame(data)\n",
    "x = DF.iloc[:,:-1].values\n",
    "y = DF.iloc[:,-1].values\n",
    "DF.head(10)\n",
    "# nan = DF.isnull().sum()\n",
    "# nan\n",
    "# baraieh taghir dar khodeh DF baiad az in ravaesh estefadeh konim\n",
    "DF[\"age\"] = DF[\"age\"].fillna(DF[\"age\"].mean())\n",
    "# DF.head(10)\n",
    "DF[\"sex\"] = DF[\"sex\"].fillna(DF[\"sex\"].mode()[0])\n",
    "# DF.head(10)\n",
    "DF[\"bmi\"] = DF[\"bmi\"].fillna(DF[\"bmi\"].mean())\n",
    "# DF.head(10)\n",
    "# DF\n",
    "\n",
    "# delete strategy\n",
    "# DF = DF.dropna()\n",
    "# DF.head(10)\n",
    "# DF = DF.dropna(axis=1)\n",
    "# DF.head(10)\n"
   ]
  },
  {
   "cell_type": "code",
   "execution_count": null,
   "id": "1f633ef6",
   "metadata": {},
   "outputs": [],
   "source": [
    "# use scikit-learn\n",
    "from sklearn.impute import SimpleImputer\n",
    "# age\n",
    "# imputer = SimpleImputer(missing_values=np.nan,strategy=\"mean\")\n",
    "# # strategy => meangin mianeh mode constant\n",
    "# imputer.fit(x[:,:1])\n",
    "# x[:,:1] = imputer.transform(x[:,:1])\n",
    "# print(x[:10])\n",
    "# sex\n",
    "# imputer = SimpleImputer(missing_values=np.nan,strategy=\"most_frequent\")\n",
    "# imputer.fit(x[:,1:2])\n",
    "# x[:,1:2] = imputer.transform(x[:,1:2])\n",
    "# print(x[:10])\n",
    "# bmi\n",
    "# imputer = SimpleImputer(missing_values=np.nan,strategy=\"mean\")\n",
    "# imputer.fit(x[:,2:3])\n",
    "# x[:,2:3] = imputer.transform(x[:,2:3])\n",
    "# print(x[:10])"
   ]
  }
 ],
 "metadata": {
  "kernelspec": {
   "display_name": "vtest",
   "language": "python",
   "name": "vtest"
  },
  "language_info": {
   "codemirror_mode": {
    "name": "ipython",
    "version": 3
   },
   "file_extension": ".py",
   "mimetype": "text/x-python",
   "name": "python",
   "nbconvert_exporter": "python",
   "pygments_lexer": "ipython3",
   "version": "3.13.3"
  }
 },
 "nbformat": 4,
 "nbformat_minor": 5
}
